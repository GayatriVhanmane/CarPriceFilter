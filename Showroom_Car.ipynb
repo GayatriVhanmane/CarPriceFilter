{
 "cells": [
  {
   "cell_type": "code",
   "execution_count": 13,
   "id": "347b1033-d6b5-4dba-b978-cd906785cede",
   "metadata": {},
   "outputs": [
    {
     "name": "stdin",
     "output_type": "stream",
     "text": [
      "Enter the minimum price range 300000\n",
      "Enter the maximum price range 600000\n"
     ]
    },
    {
     "name": "stdout",
     "output_type": "stream",
     "text": [
      "Company Name: Toyota, Model Nmae: Corolla, Price: 600000,Mileage: 38000\n",
      "Company Name: Maruti Suzuki, Model Nmae: Ertiga, Price: 300000,Mileage: 40000\n",
      "Company Name: Maruti Suzuki, Model Nmae: Grand Vitara, Price: 450000,Mileage: 30900\n"
     ]
    }
   ],
   "source": [
    "# filter car details based on a specified price range\n",
    "try:\n",
    "    minrange = int(input(\"Enter the minimum price range\"))\n",
    "    maxrange = int(input(\"Enter the maximum price range\"))\n",
    "except Exception as e:\n",
    "    print(\"Exception is \",e)\n",
    "\n",
    "# Dummy Data   \n",
    "cars = [\n",
    "    {\"company\": \"Toyota\", \"model\": \"Camry\", \"price\": 800000, \"mileage\": 15000},\n",
    "    {\"company\": \"Honda\", \"model\": \"Civic\", \"price\": 950000, \"mileage\": 20000},\n",
    "    {\"company\": \"Ford\", \"model\": \"Mustang\", \"price\": 150000, \"mileage\": 5000},\n",
    "    {\"company\": \"Toyota\", \"model\": \"Corolla\", \"price\": 600000, \"mileage\": 38000},\n",
    "    {\"company\": \"Maruti Suzuki\", \"model\": \"Ertiga\", \"price\": 300000, \"mileage\": 40000},\n",
    "    {\"company\": \"Maruti Suzuki\", \"model\": \"Grand Vitara\", \"price\": 450000, \"mileage\": 30900},\n",
    "    {\"company\": \"Maruti Suzuki\", \"model\": \"Dzire\", \"price\": 620000, \"mileage\": 35000},\n",
    "]\n",
    "\n",
    "for car in cars:\n",
    "    if minrange <= car['price'] <= maxrange: \n",
    "        print(f\"Company Name: {car['company']}, Model Nmae: {car['model']}, Price: {car['price']},Mileage: {car['mileage']}\")\n",
    "            "
   ]
  },
  {
   "cell_type": "code",
   "execution_count": null,
   "id": "adfc49ca-1294-4a39-a29f-80dacfccccb2",
   "metadata": {},
   "outputs": [],
   "source": []
  }
 ],
 "metadata": {
  "kernelspec": {
   "display_name": "Python 3 (ipykernel)",
   "language": "python",
   "name": "python3"
  },
  "language_info": {
   "codemirror_mode": {
    "name": "ipython",
    "version": 3
   },
   "file_extension": ".py",
   "mimetype": "text/x-python",
   "name": "python",
   "nbconvert_exporter": "python",
   "pygments_lexer": "ipython3",
   "version": "3.12.7"
  }
 },
 "nbformat": 4,
 "nbformat_minor": 5
}
